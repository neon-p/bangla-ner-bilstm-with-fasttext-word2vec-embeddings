{
 "cells": [
  {
   "cell_type": "code",
   "execution_count": 1,
   "metadata": {
    "_cell_guid": "b1076dfc-b9ad-4769-8c92-a6c4dae69d19",
    "_uuid": "8f2839f25d086af736a60e9eeb907d3b93b6e0e5",
    "execution": {
     "iopub.execute_input": "2021-08-21T10:10:42.711648Z",
     "iopub.status.busy": "2021-08-21T10:10:42.710966Z",
     "iopub.status.idle": "2021-08-21T10:10:49.389249Z",
     "shell.execute_reply": "2021-08-21T10:10:49.388214Z",
     "shell.execute_reply.started": "2021-08-21T10:10:42.711545Z"
    }
   },
   "outputs": [
    {
     "name": "stdout",
     "output_type": "stream",
     "text": [
      "/kaggle/input/ner-datas/label_data.txt\n",
      "/kaggle/input/ner-datas/labeled_data.txt\n",
      "/kaggle/input/bengaliword2vec/bn_w2v_model.text\n",
      "/kaggle/input/bengaliword2vec/bn_w2v_model.bin\n"
     ]
    }
   ],
   "source": [
    "import numpy as np \n",
    "import re\n",
    "import pandas as pd \n",
    "from pprint import pprint\n",
    "from sklearn.model_selection import train_test_split\n",
    "from tensorflow.keras.preprocessing.sequence import pad_sequences\n",
    "from keras.models import Sequential, save_model\n",
    "from keras.layers import LSTM, Embedding, Dense, TimeDistributed, Dropout, Bidirectional\n",
    "import os\n",
    "from gensim.models import FastText,KeyedVectors\n",
    "from keras.utils import to_categorical\n",
    "import time\n",
    "from sklearn.metrics import f1_score,confusion_matrix,classification_report\n",
    "from sklearn.preprocessing import MultiLabelBinarizer\n",
    "for dirname, _, filenames in os.walk('/kaggle/input/'):\n",
    "    for filename in filenames:\n",
    "        print(os.path.join(dirname, filename))"
   ]
  },
  {
   "cell_type": "code",
   "execution_count": 2,
   "metadata": {
    "execution": {
     "iopub.execute_input": "2021-08-21T10:10:55.737596Z",
     "iopub.status.busy": "2021-08-21T10:10:55.737233Z",
     "iopub.status.idle": "2021-08-21T10:10:55.791880Z",
     "shell.execute_reply": "2021-08-21T10:10:55.791024Z",
     "shell.execute_reply.started": "2021-08-21T10:10:55.737568Z"
    }
   },
   "outputs": [],
   "source": [
    "data=pd.read_csv(\"/kaggle/input/ner-datas/label_data.txt\",encoding=\"utf-8\",sep=\" \",names=['word','label'],skip_blank_lines=False)\n",
    "df=pd.DataFrame(data)\n",
    "df.replace(np.NaN,\"Break\",inplace=True)"
   ]
  },
  {
   "cell_type": "code",
   "execution_count": 3,
   "metadata": {
    "execution": {
     "iopub.execute_input": "2021-08-21T10:10:59.633533Z",
     "iopub.status.busy": "2021-08-21T10:10:59.633079Z",
     "iopub.status.idle": "2021-08-21T10:10:59.646458Z",
     "shell.execute_reply": "2021-08-21T10:10:59.645015Z",
     "shell.execute_reply.started": "2021-08-21T10:10:59.633500Z"
    }
   },
   "outputs": [],
   "source": [
    "#checking empty list\n",
    "def remove_empty_list(data):\n",
    "    a=list(filter(lambda x: [] != x, data))\n",
    "    return a\n",
    "\n",
    "#for spiliting sentences\n",
    "def making_list(data):\n",
    "    f=[]\n",
    "    t=[]\n",
    "    for i in data:\n",
    "        if (i==\"Break\"):\n",
    "            f.append(t)\n",
    "            t=[]\n",
    "        else:\n",
    "            t.append(i)\n",
    "    return remove_empty_list(f)\n",
    "\n",
    "def data_preprocessing():\n",
    "    label=making_list(df['label'])\n",
    "    sen=making_list(df['word'])\n",
    "    l=[]\n",
    "    for i in sen:\n",
    "        s=\" \".join(i)\n",
    "        l.append(preprocessing(s).split())\n",
    "    max_len=max([len(i) for i in sen])\n",
    "    return sen,label,max_len\n",
    "\n",
    "def preprocessing(sentence):\n",
    "    whitespace = re.compile(u\"[\\ufeff\\u200d\\u200b\\u200c\\u00a0\\u1680\\u180e\\u202f\\u205f\\u3000\\u2000-\\u200a]+\", re.UNICODE)\n",
    "    fullspace = re.compile(u\"[\\s\\u0020]+\", re.UNICODE)\n",
    "    bangla_fullstop = u\"\\u0964\"\n",
    "    punctSeq   = u\"['\\\"“”‘’]+|[.?!,…]+|[:;]+\"\n",
    "    punc = u\"[(),$%^&*+={}\\[\\]:\\\"|\\'\\~`<>/,¦!?½£¶¼©⅐⅑⅒⅓⅔⅕⅖⅗⅘⅙⅚⅛⅜⅝⅞⅟↉¤¿º;-]+\"\n",
    "    sentence= whitespace.sub(\"\",sentence)\n",
    "    sentence= fullspace.sub(\" \",sentence)\n",
    "    sentence = re.sub(r'^https?:\\/\\/.*[\\r\\n]*', \"\", sentence, flags=re.MULTILINE)\n",
    "    sentence = re.sub(punctSeq, \"\", sentence)\n",
    "    sentence = re.sub(bangla_fullstop, \"\",sentence)\n",
    "    sentence = re.sub(punc, \"\", sentence)\n",
    "    return sentence"
   ]
  },
  {
   "cell_type": "code",
   "execution_count": 4,
   "metadata": {
    "execution": {
     "iopub.execute_input": "2021-08-21T10:11:04.156353Z",
     "iopub.status.busy": "2021-08-21T10:11:04.155970Z",
     "iopub.status.idle": "2021-08-21T10:11:04.471518Z",
     "shell.execute_reply": "2021-08-21T10:11:04.470448Z",
     "shell.execute_reply.started": "2021-08-21T10:11:04.156320Z"
    }
   },
   "outputs": [],
   "source": [
    "sen,label,max_len=data_preprocessing()"
   ]
  },
  {
   "cell_type": "code",
   "execution_count": 5,
   "metadata": {
    "execution": {
     "iopub.execute_input": "2021-08-21T10:11:12.528672Z",
     "iopub.status.busy": "2021-08-21T10:11:12.528324Z",
     "iopub.status.idle": "2021-08-21T10:15:53.720055Z",
     "shell.execute_reply": "2021-08-21T10:15:53.719309Z",
     "shell.execute_reply.started": "2021-08-21T10:11:12.528643Z"
    }
   },
   "outputs": [
    {
     "name": "stdout",
     "output_type": "stream",
     "text": [
      "dt= 281.18646144866943\n"
     ]
    }
   ],
   "source": [
    "#pre-trained word embedding start here\n",
    "#loading pre-trained word embedding\n",
    "st=time.time()\n",
    "pre_em_model= KeyedVectors.load_word2vec_format('../input/bengaliword2vec/bn_w2v_model.text')\n",
    "et=time.time()\n",
    "dt=et-st\n",
    "print('dt=',dt)"
   ]
  },
  {
   "cell_type": "code",
   "execution_count": 6,
   "metadata": {
    "execution": {
     "iopub.execute_input": "2021-08-21T10:17:55.867924Z",
     "iopub.status.busy": "2021-08-21T10:17:55.867291Z",
     "iopub.status.idle": "2021-08-21T10:17:56.931018Z",
     "shell.execute_reply": "2021-08-21T10:17:56.929931Z",
     "shell.execute_reply.started": "2021-08-21T10:17:55.867878Z"
    }
   },
   "outputs": [],
   "source": [
    "#creating dictonary with pre-trained model words and vector\n",
    "embeddings_index={}\n",
    "for word, vector in zip(pre_em_model.key_to_index, pre_em_model.vectors):\n",
    "    coefs = np.asarray(vector, dtype='float32')\n",
    "    embeddings_index[word] = coefs"
   ]
  },
  {
   "cell_type": "code",
   "execution_count": 22,
   "metadata": {
    "execution": {
     "iopub.execute_input": "2021-08-21T10:48:04.691740Z",
     "iopub.status.busy": "2021-08-21T10:48:04.691372Z",
     "iopub.status.idle": "2021-08-21T10:48:04.702673Z",
     "shell.execute_reply": "2021-08-21T10:48:04.701166Z",
     "shell.execute_reply.started": "2021-08-21T10:48:04.691710Z"
    }
   },
   "outputs": [
    {
     "name": "stdout",
     "output_type": "stream",
     "text": [
      "0\n"
     ]
    }
   ],
   "source": [
    "missing_words=0\n",
    "for count, word in enumerate(words):\n",
    "    if word not in embeddings_index:\n",
    "        missing_words += 1\n",
    "print(missing_words)"
   ]
  },
  {
   "cell_type": "markdown",
   "metadata": {},
   "source": [
    "**Using \"UNK\" approach to handle oov word**\n",
    "\n",
    "*Not want to use traditional approach skip these cell*"
   ]
  },
  {
   "cell_type": "code",
   "execution_count": null,
   "metadata": {
    "execution": {
     "iopub.execute_input": "2021-08-20T23:13:37.132174Z",
     "iopub.status.busy": "2021-08-20T23:13:37.131796Z",
     "iopub.status.idle": "2021-08-20T23:13:37.147953Z",
     "shell.execute_reply": "2021-08-20T23:13:37.146991Z",
     "shell.execute_reply.started": "2021-08-20T23:13:37.132142Z"
    }
   },
   "outputs": [],
   "source": [
    "#creating unique words/labels\n",
    "words=list(set(df[\"word\"].values))\n",
    "tags = list(set(df[\"label\"].values))\n",
    "\n",
    "#creating dict with label/words knwon as corpus dict\n",
    "word_to_int={}\n",
    "val=0\n",
    "for c,w in enumerate(words):\n",
    "    if w in embeddings_index:\n",
    "        word_to_int[w]=val\n",
    "        val+=1\n",
    "n_words=len(word_to_int)\n",
    "#for oov word in word2vec\n",
    "unk_word=[\"UNK\"]\n",
    "for i in unk_word:\n",
    "    word_to_int[i]=n_words\n",
    "\n",
    "\n",
    "label_to_int = dict((c, i) for i, c in enumerate(tags))\n",
    "n_tags=len(label_to_int)"
   ]
  },
  {
   "cell_type": "code",
   "execution_count": null,
   "metadata": {
    "execution": {
     "iopub.execute_input": "2021-08-20T23:18:17.984629Z",
     "iopub.status.busy": "2021-08-20T23:18:17.984278Z",
     "iopub.status.idle": "2021-08-20T23:18:17.990566Z",
     "shell.execute_reply": "2021-08-20T23:18:17.989594Z",
     "shell.execute_reply.started": "2021-08-20T23:18:17.984597Z"
    }
   },
   "outputs": [],
   "source": [
    "print(\"Total number of unique words:\", len(words))\n",
    "print(\"Number of words we will use:\", len(word_to_int))"
   ]
  },
  {
   "cell_type": "code",
   "execution_count": null,
   "metadata": {
    "execution": {
     "iopub.execute_input": "2021-08-20T23:13:45.394217Z",
     "iopub.status.busy": "2021-08-20T23:13:45.39385Z",
     "iopub.status.idle": "2021-08-20T23:13:45.441672Z",
     "shell.execute_reply": "2021-08-20T23:13:45.440839Z",
     "shell.execute_reply.started": "2021-08-20T23:13:45.394183Z"
    }
   },
   "outputs": [],
   "source": [
    "#encoded the sentences\n",
    "dataX=[]\n",
    "u=0\n",
    "for i in sen:\n",
    "    l=[]\n",
    "    for j in i:\n",
    "        if j in word_to_int:\n",
    "            l.append(word_to_int[j])\n",
    "        else:\n",
    "            u+=1\n",
    "            l.append(word_to_int[\"UNK\"])\n",
    "    dataX.append(l)\n",
    "    \n",
    "#padding sequences\n",
    "X = pad_sequences(maxlen=max_len, sequences=dataX, padding=\"post\",value=n_words - 1)"
   ]
  },
  {
   "cell_type": "code",
   "execution_count": null,
   "metadata": {
    "execution": {
     "iopub.execute_input": "2021-08-20T23:25:16.838154Z",
     "iopub.status.busy": "2021-08-20T23:25:16.837752Z",
     "iopub.status.idle": "2021-08-20T23:25:16.858546Z",
     "shell.execute_reply": "2021-08-20T23:25:16.857545Z",
     "shell.execute_reply.started": "2021-08-20T23:25:16.838118Z"
    }
   },
   "outputs": [],
   "source": [
    "#creating embedding_matrix for loaded the 300 dim vector(this come form pre-trained model)\n",
    "#representation of corpus dict\n",
    "embedding_matrix = np.zeros((len(word_to_int),300),dtype='float32')\n",
    "for word,count in word_to_int.items():\n",
    "    if word in embeddings_index:\n",
    "        embedding_matrix[count]=embeddings_index[word]\n",
    "#For pre-trained model require cells\n",
    "#end here"
   ]
  },
  {
   "cell_type": "markdown",
   "metadata": {},
   "source": [
    "**Using another approach to handle OOV word**\n",
    "1. *Most similar word*\n",
    "1. *character vector means*\n",
    "1. *smmothing*"
   ]
  },
  {
   "cell_type": "code",
   "execution_count": 19,
   "metadata": {
    "execution": {
     "iopub.execute_input": "2021-08-21T10:35:25.157198Z",
     "iopub.status.busy": "2021-08-21T10:35:25.156618Z",
     "iopub.status.idle": "2021-08-21T10:35:25.168628Z",
     "shell.execute_reply": "2021-08-21T10:35:25.167297Z",
     "shell.execute_reply.started": "2021-08-21T10:35:25.157157Z"
    }
   },
   "outputs": [],
   "source": [
    "#creating unique words/labels\n",
    "words=list(set(df[\"word\"].values))\n",
    "tags = list(set(df[\"label\"].values))\n",
    "\n",
    "#creating dict with label/words knwon as corpus dict\n",
    "word_to_int = dict((c, i) for i, c in enumerate(words))\n",
    "n_words=len(word_to_int)\n",
    "\n",
    "label_to_int = dict((c, i) for i, c in enumerate(tags))\n",
    "n_tags=len(label_to_int)"
   ]
  },
  {
   "cell_type": "code",
   "execution_count": 20,
   "metadata": {
    "execution": {
     "iopub.execute_input": "2021-08-21T10:35:27.827416Z",
     "iopub.status.busy": "2021-08-21T10:35:27.826967Z",
     "iopub.status.idle": "2021-08-21T10:35:27.901574Z",
     "shell.execute_reply": "2021-08-21T10:35:27.900410Z",
     "shell.execute_reply.started": "2021-08-21T10:35:27.827377Z"
    }
   },
   "outputs": [],
   "source": [
    "#encoded the sentences\n",
    "dataX=[]\n",
    "for i in sen:\n",
    "    l=[]\n",
    "    for j in i:\n",
    "        if j in word_to_int:\n",
    "            l.append(word_to_int[j])\n",
    "    dataX.append(l)\n",
    "    \n",
    "#padding sequences\n",
    "X = pad_sequences(maxlen=max_len, sequences=dataX, padding=\"post\",value=n_words - 1)"
   ]
  },
  {
   "cell_type": "code",
   "execution_count": 21,
   "metadata": {
    "execution": {
     "iopub.execute_input": "2021-08-21T10:47:44.750085Z",
     "iopub.status.busy": "2021-08-21T10:47:44.749647Z",
     "iopub.status.idle": "2021-08-21T10:47:44.826432Z",
     "shell.execute_reply": "2021-08-21T10:47:44.825344Z",
     "shell.execute_reply.started": "2021-08-21T10:47:44.750047Z"
    }
   },
   "outputs": [],
   "source": [
    "#creating embedding_matrix for loaded the 300 dim vector(this come form pre-trained model)\n",
    "#representation of corpus dict\n",
    "embedding_matrix = np.zeros((len(word_to_int),300),dtype='float32')\n",
    "for word,count in word_to_int.items():\n",
    "    if word in embeddings_index:\n",
    "        embedding_matrix[count]=embeddings_index[word]\n",
    "    else:\n",
    "        try:\n",
    "            word=wv.most_similar(positive=[word], topn=1, restrict_vocab=5000)\n",
    "            embedding_matrix[count]=embeddings_index[word]\n",
    "        except:\n",
    "            try:\n",
    "                ch_label_em_matx= np.zeros((len(word),300),dtype='float32')\n",
    "                for m in range(len(word)):\n",
    "                    try:\n",
    "                        ch_label_em_matx[m]=embeddings_index[word[m]]\n",
    "                    except:\n",
    "                        ch_label_em_matx[m]=np.zeros(300,dtype='float32')\n",
    "                ch_label_em_matx=np.mean(np.array(em_matx_for_word),axis=0)\n",
    "                embeddings_index[word]=ch_label_em_matx\n",
    "                embedding_matrix[count]=embeddings_index[word]\n",
    "            except:\n",
    "                embedding_index[word]=np.zeros(300,dtype='float32')\n",
    "                embedding_matrix[count]=embedding_index[word]\n",
    "            \n",
    "#For pre-trained model require cells\n",
    "#end here"
   ]
  },
  {
   "cell_type": "code",
   "execution_count": 23,
   "metadata": {
    "execution": {
     "iopub.execute_input": "2021-08-21T10:49:46.871981Z",
     "iopub.status.busy": "2021-08-21T10:49:46.871628Z",
     "iopub.status.idle": "2021-08-21T10:49:46.981638Z",
     "shell.execute_reply": "2021-08-21T10:49:46.980530Z",
     "shell.execute_reply.started": "2021-08-21T10:49:46.871949Z"
    }
   },
   "outputs": [],
   "source": [
    "#encoded the labels\n",
    "dataY=[]\n",
    "for i in label:\n",
    "    l=[]\n",
    "    for j in i:\n",
    "        l.append(label_to_int[j])\n",
    "    dataY.append(l)\n",
    "\n",
    "#padding and categorical (for multilabel classification\n",
    "#it's required) sequences\n",
    "Y = pad_sequences(maxlen=max_len, sequences=dataY, padding=\"post\",value=label_to_int[\"0\"])\n",
    "y = [to_categorical(i, num_classes=n_tags) for i in Y]"
   ]
  },
  {
   "cell_type": "markdown",
   "metadata": {},
   "source": [
    "**Skip below two cell while use Pre-trained word embeddings**"
   ]
  },
  {
   "cell_type": "code",
   "execution_count": 24,
   "metadata": {
    "execution": {
     "iopub.execute_input": "2021-08-21T10:50:09.426180Z",
     "iopub.status.busy": "2021-08-21T10:50:09.425772Z",
     "iopub.status.idle": "2021-08-21T10:50:09.431867Z",
     "shell.execute_reply": "2021-08-21T10:50:09.430777Z",
     "shell.execute_reply.started": "2021-08-21T10:50:09.426147Z"
    }
   },
   "outputs": [
    {
     "name": "stdout",
     "output_type": "stream",
     "text": [
      "(4364, 18) (4364, 18)\n"
     ]
    }
   ],
   "source": [
    "print(X.shape,Y.shape)"
   ]
  },
  {
   "cell_type": "code",
   "execution_count": 37,
   "metadata": {
    "execution": {
     "iopub.execute_input": "2021-08-21T11:29:21.056903Z",
     "iopub.status.busy": "2021-08-21T11:29:21.056512Z",
     "iopub.status.idle": "2021-08-21T11:30:26.810264Z",
     "shell.execute_reply": "2021-08-21T11:30:26.809219Z",
     "shell.execute_reply.started": "2021-08-21T11:29:21.056870Z"
    }
   },
   "outputs": [
    {
     "name": "stdout",
     "output_type": "stream",
     "text": [
      "Epoch 1/20\n",
      "117/117 [==============================] - 8s 30ms/step - loss: 1.2173 - accuracy: 0.7909 - val_loss: 0.3873 - val_accuracy: 0.8989\n",
      "Epoch 2/20\n",
      "117/117 [==============================] - 3s 25ms/step - loss: 0.3714 - accuracy: 0.8944 - val_loss: 0.3089 - val_accuracy: 0.9099\n",
      "Epoch 3/20\n",
      "117/117 [==============================] - 3s 26ms/step - loss: 0.2948 - accuracy: 0.9137 - val_loss: 0.2456 - val_accuracy: 0.9345\n",
      "Epoch 4/20\n",
      "117/117 [==============================] - 3s 26ms/step - loss: 0.2302 - accuracy: 0.9376 - val_loss: 0.2058 - val_accuracy: 0.9450\n",
      "Epoch 5/20\n",
      "117/117 [==============================] - 3s 26ms/step - loss: 0.1944 - accuracy: 0.9469 - val_loss: 0.1809 - val_accuracy: 0.9500\n",
      "Epoch 6/20\n",
      "117/117 [==============================] - 3s 26ms/step - loss: 0.1751 - accuracy: 0.9500 - val_loss: 0.1638 - val_accuracy: 0.9534\n",
      "Epoch 7/20\n",
      "117/117 [==============================] - 3s 26ms/step - loss: 0.1576 - accuracy: 0.9545 - val_loss: 0.1503 - val_accuracy: 0.9561\n",
      "Epoch 8/20\n",
      "117/117 [==============================] - 3s 25ms/step - loss: 0.1471 - accuracy: 0.9562 - val_loss: 0.1398 - val_accuracy: 0.9591\n",
      "Epoch 9/20\n",
      "117/117 [==============================] - 3s 26ms/step - loss: 0.1321 - accuracy: 0.9605 - val_loss: 0.1319 - val_accuracy: 0.9621\n",
      "Epoch 10/20\n",
      "117/117 [==============================] - 3s 26ms/step - loss: 0.1250 - accuracy: 0.9646 - val_loss: 0.1255 - val_accuracy: 0.9643\n",
      "Epoch 11/20\n",
      "117/117 [==============================] - 3s 26ms/step - loss: 0.1188 - accuracy: 0.9655 - val_loss: 0.1192 - val_accuracy: 0.9649\n",
      "Epoch 12/20\n",
      "117/117 [==============================] - 3s 25ms/step - loss: 0.1138 - accuracy: 0.9673 - val_loss: 0.1147 - val_accuracy: 0.9674\n",
      "Epoch 13/20\n",
      "117/117 [==============================] - 3s 26ms/step - loss: 0.1062 - accuracy: 0.9690 - val_loss: 0.1107 - val_accuracy: 0.9674\n",
      "Epoch 14/20\n",
      "117/117 [==============================] - 3s 26ms/step - loss: 0.1020 - accuracy: 0.9695 - val_loss: 0.1069 - val_accuracy: 0.9686\n",
      "Epoch 15/20\n",
      "117/117 [==============================] - 3s 26ms/step - loss: 0.0951 - accuracy: 0.9714 - val_loss: 0.1038 - val_accuracy: 0.9705\n",
      "Epoch 16/20\n",
      "117/117 [==============================] - 3s 27ms/step - loss: 0.0890 - accuracy: 0.9737 - val_loss: 0.1007 - val_accuracy: 0.9700\n",
      "Epoch 17/20\n",
      "117/117 [==============================] - 3s 28ms/step - loss: 0.0916 - accuracy: 0.9730 - val_loss: 0.0986 - val_accuracy: 0.9703\n",
      "Epoch 18/20\n",
      "117/117 [==============================] - 3s 26ms/step - loss: 0.0820 - accuracy: 0.9760 - val_loss: 0.0965 - val_accuracy: 0.9710\n",
      "Epoch 19/20\n",
      "117/117 [==============================] - 3s 26ms/step - loss: 0.0828 - accuracy: 0.9758 - val_loss: 0.0949 - val_accuracy: 0.9717\n",
      "Epoch 20/20\n",
      "117/117 [==============================] - 3s 26ms/step - loss: 0.0797 - accuracy: 0.9762 - val_loss: 0.0926 - val_accuracy: 0.9719\n"
     ]
    }
   ],
   "source": [
    "#train\n",
    "epochs=20\n",
    "units=20\n",
    "batch_size=30\n",
    "\n",
    "#spiliting train/test data\n",
    "X_train, X_test, y_train, y_test = train_test_split(X, y, test_size=0.2)\n",
    "\n",
    "model = Sequential()\n",
    "#in embeddings weights pushed the embeddings matrix that build\n",
    "#from corpus dict and it's non trainable\n",
    "\n",
    "#while use 'UNK' approach run below layer instead of another embedding layer\n",
    "# model.add(Embedding(len(word_to_int),300,weights=[embedding_matrix],input_length=max_len,trainable=False))\n",
    "\n",
    "model.add(Embedding(len(words),300,weights=[embedding_matrix],input_length=max_len,trainable=False))\n",
    "model.add(Dropout(0.2))\n",
    "model.add(Bidirectional(LSTM(units=units, return_sequences=True,recurrent_dropout=0.1)))\n",
    "#softmax output layer\n",
    "model.add(TimeDistributed(Dense(n_tags, activation=\"softmax\")))\n",
    "\n",
    "model.compile(optimizer=\"adam\", loss=\"categorical_crossentropy\", metrics=[\"accuracy\"])\n",
    "\n",
    "history = model.fit(X_train, np.array(y_train), batch_size=batch_size, epochs=epochs, validation_data=(X_test,np.array(y_test)), verbose=1)\n"
   ]
  },
  {
   "cell_type": "code",
   "execution_count": 38,
   "metadata": {
    "execution": {
     "iopub.execute_input": "2021-08-21T11:30:49.186305Z",
     "iopub.status.busy": "2021-08-21T11:30:49.185730Z",
     "iopub.status.idle": "2021-08-21T11:30:49.368568Z",
     "shell.execute_reply": "2021-08-21T11:30:49.367833Z",
     "shell.execute_reply.started": "2021-08-21T11:30:49.186255Z"
    }
   },
   "outputs": [
    {
     "data": {
      "image/png": "[encoded data removed]",
      "text/plain": [
       "<Figure size 432x288 with 1 Axes>"
      ]
     },
     "metadata": {
      "needs_background": "light"
     },
     "output_type": "display_data"
    }
   ],
   "source": [
    "from matplotlib import pyplot\n",
    "pyplot.plot(history.history['loss'])\n",
    "pyplot.plot(history.history['val_loss'])\n",
    "pyplot.title('model train vs validation loss')\n",
    "pyplot.ylabel('loss')\n",
    "pyplot.xlabel('epoch')\n",
    "pyplot.legend(['train', 'validation'], loc='upper right')\n",
    "pyplot.show()"
   ]
  },
  {
   "cell_type": "code",
   "execution_count": null,
   "metadata": {},
   "outputs": [],
   "source": [
    "tag_details"
   ]
  },
  {
   "cell_type": "code",
   "execution_count": null,
   "metadata": {
    "execution": {
     "iopub.execute_input": "2021-08-17T05:12:37.016873Z",
     "iopub.status.busy": "2021-08-17T05:12:37.016423Z",
     "iopub.status.idle": "2021-08-17T05:12:37.023511Z",
     "shell.execute_reply": "2021-08-17T05:12:37.022745Z",
     "shell.execute_reply.started": "2021-08-17T05:12:37.016835Z"
    }
   },
   "outputs": [],
   "source": [
    "X_train.shape"
   ]
  },
  {
   "cell_type": "code",
   "execution_count": null,
   "metadata": {
    "execution": {
     "iopub.execute_input": "2021-08-20T07:59:14.160428Z",
     "iopub.status.busy": "2021-08-20T07:59:14.160089Z",
     "iopub.status.idle": "2021-08-20T07:59:14.166952Z",
     "shell.execute_reply": "2021-08-20T07:59:14.166083Z",
     "shell.execute_reply.started": "2021-08-20T07:59:14.160398Z"
    }
   },
   "outputs": [],
   "source": [
    "X_test[0]"
   ]
  },
  {
   "cell_type": "code",
   "execution_count": null,
   "metadata": {
    "execution": {
     "iopub.execute_input": "2021-08-17T20:03:19.843672Z",
     "iopub.status.busy": "2021-08-17T20:03:19.843296Z",
     "iopub.status.idle": "2021-08-17T20:03:19.858726Z",
     "shell.execute_reply": "2021-08-17T20:03:19.857467Z",
     "shell.execute_reply.started": "2021-08-17T20:03:19.843639Z"
    }
   },
   "outputs": [],
   "source": [
    "#This cell contain data information function\n",
    "def counting_label(string):\n",
    "    a=0\n",
    "    for i in range(len(df['label'])):\n",
    "        if string==df['label'][i]:\n",
    "            a+=1\n",
    "    return a\n",
    "\n",
    "def count(string):\n",
    "    b,i,o=\"B-\",\"I-\",\"O-\"\n",
    "    num_of_b=counting_label(b+string)\n",
    "    num_of_i=counting_label(i+string)\n",
    "    num_of_o=counting_label(o+string)\n",
    "    n_of_single_words=num_of_b-num_of_o        \n",
    "    n_of_double_words=num_of_b-n_of_single_words-num_of_i\n",
    "    n_of_multiple_words=num_of_i\n",
    "    return n_of_single_words,n_of_double_words,n_of_multiple_words\n",
    "\n",
    "def data_details():\n",
    "    n_of_sen=counting_label(\"Break\")\n",
    "    n_of_words=len(df[\"word\"])-n_of_sen\n",
    "    n_of_misc_words=counting_label(\"0\")\n",
    "    n_of_single_words_name,n_of_double_words_name,n_of_multiple_words_name=count(\"PER\")\n",
    "    n_of_single_words_loc,n_of_double_words_loc,n_of_multiple_words_loc=count(\"LOC\")\n",
    "    n_of_single_words_org,n_of_double_words_org,n_of_multiple_words_org=count(\"ORG\")\n",
    "    n_of_single_words_time,n_of_double_words_time,n_of_multiple_words_time=count(\"TIME\")\n",
    "    n_of_single_words_unit,n_of_double_words_unit,n_of_multiple_words_unit=count(\"UNIT\")\n",
    "\n",
    "    d_dict={\"Person\":[n_of_single_words_name,n_of_double_words_name,n_of_multiple_words_name],\n",
    "          \"Location\":[n_of_single_words_loc,n_of_double_words_loc,n_of_multiple_words_loc],\n",
    "          \"Organization\":[n_of_single_words_org,n_of_double_words_org,n_of_multiple_words_org],\n",
    "          \"Time\":[n_of_single_words_time,n_of_double_words_time,n_of_multiple_words_time],\n",
    "          \"Unit\":[n_of_single_words_unit,n_of_double_words_unit,n_of_multiple_words_unit]\n",
    "         }\n",
    "    datas=pd.DataFrame(d_dict ,columns = ['Person','Location','Organization','Time','Unit'], index=['Single words','Double words','Multiple words'])\n",
    "\n",
    "    return n_of_sen,n_of_words,n_of_misc_words,datas\n",
    "\n",
    "#This function contain the labels distribution\n",
    "def tag_details():\n",
    "    tag_distribution = data.groupby(\"label\").size().reset_index(name='counts')\n",
    "    print(tag_distribution)"
   ]
  },
  {
   "cell_type": "code",
   "execution_count": null,
   "metadata": {
    "execution": {
     "iopub.execute_input": "2021-08-18T21:35:41.241086Z",
     "iopub.status.busy": "2021-08-18T21:35:41.240742Z",
     "iopub.status.idle": "2021-08-18T21:35:41.246116Z",
     "shell.execute_reply": "2021-08-18T21:35:41.245111Z",
     "shell.execute_reply.started": "2021-08-18T21:35:41.241055Z"
    }
   },
   "outputs": [],
   "source": [
    "#This function contain evaluation of model\n",
    "def evaluation(avg):\n",
    "    p = model.predict(X_test)\n",
    "    y_pred = np.argmax(p, axis=-1)\n",
    "    y_real=np.argmax(y_test,axis=-1)\n",
    "    return f1_score(y_real.flatten(),y_pred.flatten(),average=avg)"
   ]
  },
  {
   "cell_type": "code",
   "execution_count": null,
   "metadata": {
    "execution": {
     "iopub.execute_input": "2021-08-18T21:35:43.892327Z",
     "iopub.status.busy": "2021-08-18T21:35:43.891991Z",
     "iopub.status.idle": "2021-08-18T21:35:44.540998Z",
     "shell.execute_reply": "2021-08-18T21:35:44.540235Z",
     "shell.execute_reply.started": "2021-08-18T21:35:43.892301Z"
    }
   },
   "outputs": [],
   "source": [
    "average=\"macro\"\n",
    "evaluation(average)"
   ]
  },
  {
   "cell_type": "code",
   "execution_count": null,
   "metadata": {
    "execution": {
     "iopub.execute_input": "2021-08-18T21:35:47.701289Z",
     "iopub.status.busy": "2021-08-18T21:35:47.700939Z",
     "iopub.status.idle": "2021-08-18T21:35:47.987578Z",
     "shell.execute_reply": "2021-08-18T21:35:47.986824Z",
     "shell.execute_reply.started": "2021-08-18T21:35:47.701259Z"
    }
   },
   "outputs": [],
   "source": [
    "average=\"micro\"\n",
    "evaluation(average)"
   ]
  },
  {
   "cell_type": "code",
   "execution_count": null,
   "metadata": {
    "execution": {
     "iopub.execute_input": "2021-08-18T21:35:51.944079Z",
     "iopub.status.busy": "2021-08-18T21:35:51.943758Z",
     "iopub.status.idle": "2021-08-18T21:35:52.228672Z",
     "shell.execute_reply": "2021-08-18T21:35:52.227922Z",
     "shell.execute_reply.started": "2021-08-18T21:35:51.944051Z"
    }
   },
   "outputs": [],
   "source": [
    "average=\"weighted\"\n",
    "evaluation(average)"
   ]
  },
  {
   "cell_type": "code",
   "execution_count": null,
   "metadata": {
    "execution": {
     "iopub.execute_input": "2021-08-17T20:03:23.98176Z",
     "iopub.status.busy": "2021-08-17T20:03:23.981374Z",
     "iopub.status.idle": "2021-08-17T20:03:24.008749Z",
     "shell.execute_reply": "2021-08-17T20:03:24.00777Z",
     "shell.execute_reply.started": "2021-08-17T20:03:23.981724Z"
    }
   },
   "outputs": [],
   "source": [
    "tag_details()"
   ]
  },
  {
   "cell_type": "code",
   "execution_count": null,
   "metadata": {
    "execution": {
     "iopub.execute_input": "2021-08-20T23:34:40.870368Z",
     "iopub.status.busy": "2021-08-20T23:34:40.869972Z",
     "iopub.status.idle": "2021-08-20T23:34:42.071741Z",
     "shell.execute_reply": "2021-08-20T23:34:42.070582Z",
     "shell.execute_reply.started": "2021-08-20T23:34:40.870337Z"
    }
   },
   "outputs": [],
   "source": [
    "p = model.predict(X_test)\n",
    "y_pred = np.argmax(p, axis=-1)\n",
    "y_real=np.argmax(y_test,axis=-1)"
   ]
  },
  {
   "cell_type": "code",
   "execution_count": null,
   "metadata": {
    "execution": {
     "iopub.execute_input": "2021-08-20T23:35:24.568194Z",
     "iopub.status.busy": "2021-08-20T23:35:24.567814Z",
     "iopub.status.idle": "2021-08-20T23:35:24.574943Z",
     "shell.execute_reply": "2021-08-20T23:35:24.574168Z",
     "shell.execute_reply.started": "2021-08-20T23:35:24.568162Z"
    }
   },
   "outputs": [],
   "source": [
    "print(y_pred[3],y_real[3])"
   ]
  },
  {
   "cell_type": "code",
   "execution_count": null,
   "metadata": {
    "execution": {
     "iopub.execute_input": "2021-08-20T23:35:00.015806Z",
     "iopub.status.busy": "2021-08-20T23:35:00.015442Z",
     "iopub.status.idle": "2021-08-20T23:35:00.049637Z",
     "shell.execute_reply": "2021-08-20T23:35:00.048087Z",
     "shell.execute_reply.started": "2021-08-20T23:35:00.015765Z"
    }
   },
   "outputs": [],
   "source": [
    "print(classification_report(y_pred=y_pred.flatten(), y_true=y_real.flatten(),zero_division=0))\n",
    "# confusion_matrix(y_pred=y_pred_s[0], y_true=y_real_s[0])"
   ]
  },
  {
   "cell_type": "code",
   "execution_count": null,
   "metadata": {},
   "outputs": [],
   "source": [
    "def word_embedding(data):\n",
    "    l=[]\n",
    "    for i in data:\n",
    "        l.append(em_model.wv[i])\n",
    "    X = pad_sequences(maxlen=max_len, sequences=l, padding=\"post\",value=n_words - 1)\n",
    "    return X\n",
    "\n",
    "a=\"টিকার বদলে স্যালাইন পেয়েছে জার্মানির ৮ হাজার মানুষ!\"\n",
    "b=preprocessing(a).split()\n",
    "dataX_test=word_embedding(making_list(b))\n",
    "dataX_test.shape\n",
    "p=model.predict([dataX_test])\n",
    "\n",
    "for i in range(len(p)):  \n",
    "    x=np.argmax(p[i], axis=-1)\n",
    "    print(\"{}   {}\".format(\"Word\", \"Pred\"))\n",
    "    for j in range(len(b)):\n",
    "        for l,k in label_to_int.items():\n",
    "            if k==x[j]:\n",
    "                print(\"{} -> {}\".format(b[j],l))"
   ]
  },
  {
   "cell_type": "code",
   "execution_count": null,
   "metadata": {
    "execution": {
     "iopub.execute_input": "2021-07-27T21:42:11.599177Z",
     "iopub.status.busy": "2021-07-27T21:42:11.598843Z",
     "iopub.status.idle": "2021-07-27T21:42:11.680439Z",
     "shell.execute_reply": "2021-07-27T21:42:11.679467Z",
     "shell.execute_reply.started": "2021-07-27T21:42:11.599147Z"
    }
   },
   "outputs": [],
   "source": [
    "model_name=\"2nd\"+\".hdf5\"\n",
    "save_model(model, model_name)"
   ]
  }
 ],
 "metadata": {
  "kernelspec": {
   "display_name": "Python 3",
   "language": "python",
   "name": "python3"
  },
  "language_info": {
   "codemirror_mode": {
    "name": "ipython",
    "version": 3
   },
   "file_extension": ".py",
   "mimetype": "text/x-python",
   "name": "python",
   "nbconvert_exporter": "python",
   "pygments_lexer": "ipython3",
   "version": "3.8.10"
  }
 },
 "nbformat": 4,
 "nbformat_minor": 4
}
